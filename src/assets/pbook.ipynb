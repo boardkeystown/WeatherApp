{
 "cells": [
  {
   "cell_type": "code",
   "execution_count": 6,
   "metadata": {},
   "outputs": [
    {
     "data": {
      "text/html": [
       "<div>\n",
       "<style scoped>\n",
       "    .dataframe tbody tr th:only-of-type {\n",
       "        vertical-align: middle;\n",
       "    }\n",
       "\n",
       "    .dataframe tbody tr th {\n",
       "        vertical-align: top;\n",
       "    }\n",
       "\n",
       "    .dataframe thead th {\n",
       "        text-align: right;\n",
       "    }\n",
       "</style>\n",
       "<table border=\"1\" class=\"dataframe\">\n",
       "  <thead>\n",
       "    <tr style=\"text-align: right;\">\n",
       "      <th></th>\n",
       "      <th>id</th>\n",
       "      <th>name</th>\n",
       "      <th>state</th>\n",
       "      <th>country</th>\n",
       "      <th>coord</th>\n",
       "    </tr>\n",
       "  </thead>\n",
       "  <tbody>\n",
       "    <tr>\n",
       "      <th>0</th>\n",
       "      <td>833</td>\n",
       "      <td>Ḩeşār-e Sefīd</td>\n",
       "      <td></td>\n",
       "      <td>IR</td>\n",
       "      <td>{'lon': 47.159401, 'lat': 34.330502}</td>\n",
       "    </tr>\n",
       "    <tr>\n",
       "      <th>1</th>\n",
       "      <td>2960</td>\n",
       "      <td>‘Ayn Ḩalāqīm</td>\n",
       "      <td></td>\n",
       "      <td>SY</td>\n",
       "      <td>{'lon': 36.321911, 'lat': 34.940079}</td>\n",
       "    </tr>\n",
       "    <tr>\n",
       "      <th>2</th>\n",
       "      <td>3245</td>\n",
       "      <td>Taglag</td>\n",
       "      <td></td>\n",
       "      <td>IR</td>\n",
       "      <td>{'lon': 44.98333, 'lat': 38.450001}</td>\n",
       "    </tr>\n",
       "    <tr>\n",
       "      <th>3</th>\n",
       "      <td>3530</td>\n",
       "      <td>Qabāghlū</td>\n",
       "      <td></td>\n",
       "      <td>IR</td>\n",
       "      <td>{'lon': 46.168499, 'lat': 36.173302}</td>\n",
       "    </tr>\n",
       "    <tr>\n",
       "      <th>4</th>\n",
       "      <td>5174</td>\n",
       "      <td>‘Arīqah</td>\n",
       "      <td></td>\n",
       "      <td>SY</td>\n",
       "      <td>{'lon': 36.48336, 'lat': 32.889809}</td>\n",
       "    </tr>\n",
       "  </tbody>\n",
       "</table>\n",
       "</div>"
      ],
      "text/plain": [
       "     id           name state country                                 coord\n",
       "0   833  Ḩeşār-e Sefīd            IR  {'lon': 47.159401, 'lat': 34.330502}\n",
       "1  2960   ‘Ayn Ḩalāqīm            SY  {'lon': 36.321911, 'lat': 34.940079}\n",
       "2  3245         Taglag            IR   {'lon': 44.98333, 'lat': 38.450001}\n",
       "3  3530       Qabāghlū            IR  {'lon': 46.168499, 'lat': 36.173302}\n",
       "4  5174        ‘Arīqah            SY   {'lon': 36.48336, 'lat': 32.889809}"
      ]
     },
     "execution_count": 6,
     "metadata": {},
     "output_type": "execute_result"
    }
   ],
   "source": [
    "import pandas as pd\n",
    "import os\n",
    "\n",
    "file=f\"./city.list.json\"\n",
    "\n",
    "df = pd.read_json(file)\n",
    "\n",
    "df.head()"
   ]
  },
  {
   "cell_type": "code",
   "execution_count": 7,
   "metadata": {},
   "outputs": [],
   "source": [
    "from urllib.parse import urlparse\n",
    "from urllib.parse import quote\n",
    "c=0\n",
    "l=[]\n",
    "for j in df.iterrows():\n",
    "    # c+=1\n",
    "    # if c==5:\n",
    "    #     break\n",
    "    if (j[1]['country']=='US'):\n",
    "        v = (j[1]['id'],j[1]['name'],quote(j[1]['name']))\n",
    "        l.append(v)"
   ]
  },
  {
   "cell_type": "code",
   "execution_count": 8,
   "metadata": {},
   "outputs": [],
   "source": [
    "import json\n",
    "\n",
    "dict_list = {}\n",
    "\n",
    "for t in l:\n",
    "    dict_list[t[0]]={'name': t[1], 'url': t[2]}\n",
    "\n",
    "\n",
    "my_json = json.dumps(dict_list)\n",
    "\n",
    "with open('city_names.min.json','w') as f:\n",
    "    f.write(my_json)\n"
   ]
  },
  {
   "cell_type": "code",
   "execution_count": 9,
   "metadata": {},
   "outputs": [],
   "source": [
    "\n",
    "dict_list = []\n",
    "\n",
    "for t in l:\n",
    "    dict_list.append(t[1])\n",
    "\n",
    "my_json = json.dumps(dict_list)\n",
    "with open('city_names.just.names.min.json','w') as f:\n",
    "    f.write(my_json)\n"
   ]
  }
 ],
 "metadata": {
  "kernelspec": {
   "display_name": "Python 3",
   "language": "python",
   "name": "python3"
  },
  "language_info": {
   "codemirror_mode": {
    "name": "ipython",
    "version": 3
   },
   "file_extension": ".py",
   "mimetype": "text/x-python",
   "name": "python",
   "nbconvert_exporter": "python",
   "pygments_lexer": "ipython3",
   "version": "3.11.2"
  },
  "orig_nbformat": 4
 },
 "nbformat": 4,
 "nbformat_minor": 2
}
